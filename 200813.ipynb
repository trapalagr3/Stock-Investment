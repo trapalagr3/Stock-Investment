{
 "cells": [
  {
   "cell_type": "code",
   "execution_count": 184,
   "metadata": {},
   "outputs": [],
   "source": [
    "# matplotlib rebuild\n",
    "import matplotlib as mpl\n",
    "#mpl.font_manager._rebuild()\n",
    "# matplotlib 환경 설정\n",
    "import matplotlib.pyplot as plt\n",
    "import pandas as pd\n",
    "import FinanceDataReader as fdr\n",
    "\n",
    "plt.rcParams[\"font.family\"] = 'nanummyeongjo'\n",
    "plt.rcParams[\"axes.grid\"] = True\n",
    "plt.rcParams[\"figure.figsize\"] = (12,6)\n",
    "plt.rcParams[\"axes.formatter.useoffset\"] = False\n",
    "plt.rcParams['axes.unicode_minus'] = False\n",
    "plt.rcParams[\"axes.formatter.limits\"] = -10000, 10000"
   ]
  },
  {
   "cell_type": "markdown",
   "metadata": {},
   "source": [
    "### 종목코드 데이터 불러오기"
   ]
  },
  {
   "cell_type": "code",
   "execution_count": 185,
   "metadata": {},
   "outputs": [
    {
     "data": {
      "text/html": [
       "<div>\n",
       "<style scoped>\n",
       "    .dataframe tbody tr th:only-of-type {\n",
       "        vertical-align: middle;\n",
       "    }\n",
       "\n",
       "    .dataframe tbody tr th {\n",
       "        vertical-align: top;\n",
       "    }\n",
       "\n",
       "    .dataframe thead th {\n",
       "        text-align: right;\n",
       "    }\n",
       "</style>\n",
       "<table border=\"1\" class=\"dataframe\">\n",
       "  <thead>\n",
       "    <tr style=\"text-align: right;\">\n",
       "      <th></th>\n",
       "      <th>회사명</th>\n",
       "      <th>종목코드</th>\n",
       "      <th>업종</th>\n",
       "      <th>주요제품</th>\n",
       "      <th>상장일</th>\n",
       "      <th>결산월</th>\n",
       "      <th>대표자명</th>\n",
       "      <th>홈페이지</th>\n",
       "      <th>지역</th>\n",
       "    </tr>\n",
       "  </thead>\n",
       "  <tbody>\n",
       "    <tr>\n",
       "      <th>0</th>\n",
       "      <td>브랜드엑스코퍼레이션</td>\n",
       "      <td>337930</td>\n",
       "      <td>기타 정보 서비스업</td>\n",
       "      <td>애슬레저의류, 생활/청결 용품</td>\n",
       "      <td>2020-08-13</td>\n",
       "      <td>12월</td>\n",
       "      <td>강민준, 이수연</td>\n",
       "      <td>http://www.brandxcorp.com/</td>\n",
       "      <td>서울특별시</td>\n",
       "    </tr>\n",
       "    <tr>\n",
       "      <th>1</th>\n",
       "      <td>영림원소프트랩</td>\n",
       "      <td>060850</td>\n",
       "      <td>소프트웨어 개발 및 공급업</td>\n",
       "      <td>ERP Package, 유지 관리 등</td>\n",
       "      <td>2020-08-12</td>\n",
       "      <td>12월</td>\n",
       "      <td>권영범</td>\n",
       "      <td>http://ksystem.co.kr</td>\n",
       "      <td>서울특별시</td>\n",
       "    </tr>\n",
       "  </tbody>\n",
       "</table>\n",
       "</div>"
      ],
      "text/plain": [
       "          회사명    종목코드              업종                  주요제품        상장일  결산월  \\\n",
       "0  브랜드엑스코퍼레이션  337930      기타 정보 서비스업      애슬레저의류, 생활/청결 용품 2020-08-13  12월   \n",
       "1     영림원소프트랩  060850  소프트웨어 개발 및 공급업  ERP Package, 유지 관리 등 2020-08-12  12월   \n",
       "\n",
       "       대표자명                        홈페이지     지역  \n",
       "0  강민준, 이수연  http://www.brandxcorp.com/  서울특별시  \n",
       "1       권영범        http://ksystem.co.kr  서울특별시  "
      ]
     },
     "execution_count": 185,
     "metadata": {},
     "output_type": "execute_result"
    }
   ],
   "source": [
    "## 엑셀 --> 크롤링 방식으로 수정해야 함\n",
    "jongmok = pd.read_excel(r'C:\\Users\\skxod\\Desktop\\dev\\Stock-Investment\\Jonmokcode.xls')\n",
    "### 종목코드 6자리 숫자로 변경\n",
    "jongmok['종목코드'] = jongmok['종목코드'].astype('str')\n",
    "for j in range(len(jongmok)):\n",
    "    thres = len(jongmok.loc[j,'종목코드'])\n",
    "    if thres <6:\n",
    "        jongmok.loc[j,'종목코드'] = '0'*(6-thres) + jongmok.loc[j,'종목코드']\n",
    "jongmok.head(2)"
   ]
  },
  {
   "cell_type": "markdown",
   "metadata": {},
   "source": [
    "#### EnterJongmok 함수 : 회사이름을 입력받아 종목코드 데이터로부터 종목코드를 조회하는 함수\n",
    " - 회사 리스트를 입력받는 함수 정의\n",
    " - Enter 키 입력하면 입력종료"
   ]
  },
  {
   "cell_type": "code",
   "execution_count": 186,
   "metadata": {},
   "outputs": [],
   "source": [
    "def EnterJongmok(jongmok):\n",
    "    ComList,StockList = [],[]\n",
    "    cnt = 1\n",
    "    while(1):\n",
    "        txt = input(str(cnt)+'번째 기업명을 입력하세요. ')\n",
    "        if txt=='':\n",
    "            break\n",
    "        else:\n",
    "            cnt+=1\n",
    "            ComList.append(txt)\n",
    "    for c in ComList:\n",
    "        StockList.append([c,jongmok.loc[jongmok['회사명']==c,'종목코드'].values[0]])\n",
    "    return StockList       "
   ]
  },
  {
   "cell_type": "markdown",
   "metadata": {},
   "source": [
    "#### EnterJongmok 함수 가지고 회사명과 종목코드 매칭시키기 "
   ]
  },
  {
   "cell_type": "code",
   "execution_count": 187,
   "metadata": {},
   "outputs": [
    {
     "name": "stdout",
     "output_type": "stream",
     "text": [
      "1번째 기업명을 입력하세요. 삼성전자\n",
      "2번째 기업명을 입력하세요. NAVER\n",
      "3번째 기업명을 입력하세요. 카카오\n",
      "4번째 기업명을 입력하세요. LG전자\n",
      "5번째 기업명을 입력하세요. \n"
     ]
    },
    {
     "data": {
      "text/plain": [
       "[['삼성전자', '005930'],\n",
       " ['NAVER', '035420'],\n",
       " ['카카오', '035720'],\n",
       " ['LG전자', '066570']]"
      ]
     },
     "execution_count": 187,
     "metadata": {},
     "output_type": "execute_result"
    }
   ],
   "source": [
    "# EnterJongmok 함수 가지고 기업이름을 입력받아 코드를 조회하는 함수\n",
    "stock_list = EnterJongmok(jongmok)\n",
    "stock_list"
   ]
  },
  {
   "cell_type": "markdown",
   "metadata": {},
   "source": [
    "#### financeDataReader 함수를 사용해서 주가 데이터 불러오기"
   ]
  },
  {
   "cell_type": "code",
   "execution_count": 188,
   "metadata": {},
   "outputs": [],
   "source": [
    "#financeDataReader 함수를 사용해 주가 데이터 불러오기 \n",
    "df_list = [fdr.DataReader(code, '2019-01-01', '2019-12-31')['Close'] for name, code in stock_list]"
   ]
  },
  {
   "cell_type": "code",
   "execution_count": 196,
   "metadata": {},
   "outputs": [
    {
     "name": "stdout",
     "output_type": "stream",
     "text": [
      "<class 'pandas.core.frame.DataFrame'>\n",
      "DatetimeIndex: 246 entries, 2019-01-02 to 2019-12-30\n",
      "Data columns (total 4 columns):\n",
      " #   Column  Non-Null Count  Dtype\n",
      "---  ------  --------------  -----\n",
      " 0   삼성전자    246 non-null    int64\n",
      " 1   NAVER   246 non-null    int64\n",
      " 2   카카오     246 non-null    int64\n",
      " 3   LG전자    246 non-null    int64\n",
      "dtypes: int64(4)\n",
      "memory usage: 19.6 KB\n"
     ]
    }
   ],
   "source": [
    "df = pd.concat(df_list, axis=1)\n",
    "df.columns = [name for name, code in stock_list] \n",
    "df.info()"
   ]
  },
  {
   "cell_type": "markdown",
   "metadata": {},
   "source": [
    "#### CalProfitRatio 함수\n",
    " - fdr 주가 데이터와 매수일과 매도일을 입력받아 기업별로 수익을 계산해주는 함수  \n",
    " - 계산방식  \n",
    "   (매도일의 매도가-매수일의 매수가) / (매수일의 매수가)\n",
    "   \n",
    "     ※ 가정\n",
    "  - 매수일에 매수해서 추가매수 없음\n",
    "  - 매도일 전에 별도 매도 없음\n",
    "  \n",
    "  $\\frac{Price_{sell} - Price_{buy}}{Price_{buy}}$\n",
    "  "
   ]
  },
  {
   "cell_type": "code",
   "execution_count": 191,
   "metadata": {},
   "outputs": [],
   "source": [
    "def CalProfitRatio(df,t_s,t_e):\n",
    "    res = pd.DataFrame(round(df.apply(lambda x: round(x.loc[t_e]-x.loc[t_s])*100/x.loc[t_s]),2),columns=['수익률 (%)'])    \n",
    "    return res    "
   ]
  },
  {
   "cell_type": "code",
   "execution_count": 195,
   "metadata": {},
   "outputs": [
    {
     "data": {
      "text/html": [
       "<div>\n",
       "<style scoped>\n",
       "    .dataframe tbody tr th:only-of-type {\n",
       "        vertical-align: middle;\n",
       "    }\n",
       "\n",
       "    .dataframe tbody tr th {\n",
       "        vertical-align: top;\n",
       "    }\n",
       "\n",
       "    .dataframe thead th {\n",
       "        text-align: right;\n",
       "    }\n",
       "</style>\n",
       "<table border=\"1\" class=\"dataframe\">\n",
       "  <thead>\n",
       "    <tr style=\"text-align: right;\">\n",
       "      <th></th>\n",
       "      <th>수익률 (%)</th>\n",
       "    </tr>\n",
       "  </thead>\n",
       "  <tbody>\n",
       "    <tr>\n",
       "      <th>삼성전자</th>\n",
       "      <td>2.40</td>\n",
       "    </tr>\n",
       "    <tr>\n",
       "      <th>NAVER</th>\n",
       "      <td>-8.33</td>\n",
       "    </tr>\n",
       "    <tr>\n",
       "      <th>카카오</th>\n",
       "      <td>9.77</td>\n",
       "    </tr>\n",
       "    <tr>\n",
       "      <th>LG전자</th>\n",
       "      <td>-5.75</td>\n",
       "    </tr>\n",
       "  </tbody>\n",
       "</table>\n",
       "</div>"
      ],
      "text/plain": [
       "       수익률 (%)\n",
       "삼성전자      2.40\n",
       "NAVER    -8.33\n",
       "카카오       9.77\n",
       "LG전자     -5.75"
      ]
     },
     "execution_count": 195,
     "metadata": {},
     "output_type": "execute_result"
    }
   ],
   "source": [
    "CalProfitRatio(df,'2019-03-18','2019-04-24')"
   ]
  },
  {
   "cell_type": "markdown",
   "metadata": {},
   "source": [
    "## 이후 해야할 것  \n",
    " 1. 회사명과 종목코드가 포함된 데이터를 엑셀에서 불러오는 것이 아니라 한국거래소 같은 사이트에서 크롤링으로 최신데이터를 받아올 수 있게끔 수정    \n",
    " 2. PER,ROE,EPS,PBR 등 지표 데이터 크롤링 작업 필요(FinanceDataReader에서 PER,ROE 조회 기능이 있는지 봐야겠지만, 현재로서는 없는 거 같음)     \n",
    " 3. 지표 데이터(PER,ROE,EPS)를 Python으로 불러와서 상위 몇 %에 드는 기업 리스트 정렬 기능 구현\n",
    " 4. 수익계산에서 보완할 부분??"
   ]
  },
  {
   "cell_type": "code",
   "execution_count": null,
   "metadata": {},
   "outputs": [],
   "source": []
  }
 ],
 "metadata": {
  "kernelspec": {
   "display_name": "Python 3",
   "language": "python",
   "name": "python3"
  },
  "language_info": {
   "codemirror_mode": {
    "name": "ipython",
    "version": 3
   },
   "file_extension": ".py",
   "mimetype": "text/x-python",
   "name": "python",
   "nbconvert_exporter": "python",
   "pygments_lexer": "ipython3",
   "version": "3.7.4"
  }
 },
 "nbformat": 4,
 "nbformat_minor": 4
}
